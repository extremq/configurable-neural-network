{
 "cells": [
  {
   "cell_type": "code",
   "execution_count": 78,
   "metadata": {},
   "outputs": [],
   "source": [
    "import numpy as np\n",
    "import matplotlib.pyplot as plt\n",
    "import scipy.special as sp\n",
    "import scipy.misc as misc\n",
    "import warnings\n",
    "%matplotlib inline\n"
   ]
  },
  {
   "cell_type": "code",
   "execution_count": 79,
   "metadata": {},
   "outputs": [],
   "source": [
    "# Open files\n",
    "with open(\"mnist_dataset/mnist_test.csv\", 'r') as test_file:\n",
    "    test_list = test_file.readlines()\n",
    "\n",
    "with open(\"mnist_dataset/mnist_train.csv\", 'r') as train_file:\n",
    "    train_list = train_file.readlines()\n"
   ]
  },
  {
   "cell_type": "code",
   "execution_count": 80,
   "metadata": {},
   "outputs": [],
   "source": [
    "# Testing.\n",
    "def softmax(x):\n",
    "    e_x = np.exp(x - np.max(x))\n",
    "    return e_x / e_x.sum(axis=0)\n",
    "\n",
    "\n",
    "def test(network, supress_outputs=True):\n",
    "    verification = list()\n",
    "\n",
    "    for record in test_list:\n",
    "        record = record.split(',')\n",
    "\n",
    "        # Get the label\n",
    "        correct_label = int(record[0])\n",
    "\n",
    "        # Scale it for input\n",
    "        scaled_input = np.asfarray(record[1:]) / 255.0 * 0.99 + 0.01\n",
    "\n",
    "        # Get the result\n",
    "        result = network.query(scaled_input)\n",
    "\n",
    "        # Apply SoftMax\n",
    "        result = softmax(result)\n",
    "\n",
    "        # Get the predicted label\n",
    "        predicted_label = np.argmax(result)\n",
    "\n",
    "        if predicted_label == correct_label:\n",
    "            verification.append(1)\n",
    "        else:\n",
    "            verification.append(0)\n",
    "\n",
    "    if not supress_outputs:\n",
    "        print(\n",
    "            f\"Out of {len(verification)} images, the network correctly predicted {sum(verification)}\")\n",
    "        print(\n",
    "            f\"Accuracy is {np.round(sum(verification) / len(verification) * 100, 2)}%\")\n",
    "\n",
    "    return sum(verification) / len(verification)"
   ]
  },
  {
   "cell_type": "code",
   "execution_count": 81,
   "metadata": {},
   "outputs": [],
   "source": [
    "class NeuralNetwork(object):\n",
    "    def __init__(self, dimensions, learning_rate: float):\n",
    "        if len(dimensions) < 2:\n",
    "            raise TypeError(\n",
    "                \"dimensions argument needs to have at least two elements\"\n",
    "                )\n",
    "\n",
    "        # Set object properties\n",
    "        self.learning_rate = learning_rate\n",
    "        self.dimensions = dimensions\n",
    "        self.activation_function = sp.expit\n",
    "\n",
    "        # Init values\n",
    "        self.init_layers()\n",
    "        self.init_weights()\n",
    "\n",
    "    # Builds the necessary numpy vectors for representing the layer nodes\n",
    "    def init_layers(self):\n",
    "        self.layers = list()\n",
    "\n",
    "        for index in range(len(self.dimensions)):\n",
    "            # Vectors of node_count rows\n",
    "            self.layers.append(np.zeros([self.dimensions[index], 1]))\n",
    "\n",
    "    # Builds the necessary numpy matrices for representing the weights\n",
    "    def init_weights(self):\n",
    "        self.weights = list()\n",
    "\n",
    "        for index in range(len(self.dimensions) - 1):\n",
    "            # Matrices must have the next layer's node count as rows and the current layer's node count as columns\n",
    "            # For example, the first layer after input will receive\n",
    "            # WeightMatrix * InputVector and it must result into a vector of the next layer's rows.\n",
    "            current_layer_node_count = self.dimensions[index]\n",
    "            next_layer_node_count = self.dimensions[index + 1]\n",
    "\n",
    "            self.weights.append(\n",
    "                np.random.random(\n",
    "                    [next_layer_node_count, current_layer_node_count]\n",
    "                ) - 0.5\n",
    "            )\n",
    "\n",
    "    # Trains the neural network using backpropagation\n",
    "    def train(self, inputs_list, targets_list):\n",
    "        targets = np.array(targets_list, ndmin=2).T\n",
    "\n",
    "        # Let's run the input through\n",
    "        self.query(inputs_list)\n",
    "\n",
    "        # Computing the cost function\n",
    "        # error = (target - final_output)\n",
    "        error_vector = (targets - self.layers[len(self.dimensions) - 1])\n",
    "\n",
    "        # Update the weights\n",
    "        for index in range(len(self.dimensions) - 2, -1, -1):\n",
    "            # Partial derivative\n",
    "            self.weights[index] += self.learning_rate * np.dot(\n",
    "                error_vector *\n",
    "                self.layers[index + 1] *\n",
    "                (1 - self.layers[index + 1]), self.layers[index].T\n",
    "            )\n",
    "\n",
    "            # Propagate errors accordingly\n",
    "            if index != 0:\n",
    "                error_vector = np.dot(self.weights[index].T, error_vector)\n",
    "\n",
    "    # Queries the neural network\n",
    "    def query(self, inputs_list):\n",
    "        # Convert inputs list to 2d array\n",
    "        self.layers[0] = np.array(inputs_list, ndmin=2).T\n",
    "\n",
    "        # Go through all layers and compute the outputs\n",
    "        for index in range(1, len(self.dimensions)):\n",
    "            self.layers[index] = np.dot(\n",
    "                self.weights[index - 1], self.layers[index - 1]\n",
    "            )\n",
    "            self.layers[index] = self.activation_function(self.layers[index])\n",
    "\n",
    "        return self.layers[len(self.dimensions) - 1]\n"
   ]
  },
  {
   "cell_type": "code",
   "execution_count": 82,
   "metadata": {},
   "outputs": [],
   "source": [
    "# Creating the network\n",
    "\n",
    "dimensions = np.array([28 * 28, 100, 30, 10])\n",
    "learning_rate = 0.01\n",
    "\n",
    "network = NeuralNetwork(dimensions=dimensions, learning_rate=learning_rate)\n",
    "\n",
    "performance = []"
   ]
  },
  {
   "cell_type": "code",
   "execution_count": 85,
   "metadata": {},
   "outputs": [
    {
     "name": "stdout",
     "output_type": "stream",
     "text": [
      "[0.9243, 0.9459, 0.9547, 0.9603, 0.964, 0.9658, 0.9677, 0.9694, 0.9705, 0.9714, 0.9725, 0.9723, 0.9721, 0.9727, 0.9724]\n"
     ]
    },
    {
     "data": {
      "image/png": "[encoded data removed]",
      "text/plain": [
       "<Figure size 640x480 with 1 Axes>"
      ]
     },
     "metadata": {},
     "output_type": "display_data"
    }
   ],
   "source": [
    "# Training\n",
    "\n",
    "epochs = 5\n",
    "for epoch in range(epochs):\n",
    "    for index, record in enumerate(train_list):\n",
    "        # Transform one of them to an image\n",
    "        record = record.split(',')\n",
    "\n",
    "        # Scale input to [0.01, 1.00]\n",
    "        scaled_input = np.asfarray(record[1:]) / 255.0 * 0.99 + 0.01\n",
    "\n",
    "        # Make output nodes\n",
    "        nodes = 10\n",
    "        targets = np.zeros(10) + 0.01\n",
    "        targets[int(record[0])] = 0.99\n",
    "\n",
    "        # Train.\n",
    "        network.train(inputs_list=scaled_input, targets_list=targets)\n",
    "\n",
    "    performance.append(test(network=network))\n",
    "\n",
    "plt.plot(np.arange(len(performance)), performance)\n",
    "print(performance)\n"
   ]
  }
 ],
 "metadata": {
  "kernelspec": {
   "display_name": "Python 3",
   "language": "python",
   "name": "python3"
  },
  "language_info": {
   "codemirror_mode": {
    "name": "ipython",
    "version": 3
   },
   "file_extension": ".py",
   "mimetype": "text/x-python",
   "name": "python",
   "nbconvert_exporter": "python",
   "pygments_lexer": "ipython3",
   "version": "3.10.10"
  },
  "orig_nbformat": 4,
  "vscode": {
   "interpreter": {
    "hash": "fb62f3be680cc27bb615586daf6457a9270ff9741d9ec8090b3edffd096e84d9"
   }
  }
 },
 "nbformat": 4,
 "nbformat_minor": 2
}
